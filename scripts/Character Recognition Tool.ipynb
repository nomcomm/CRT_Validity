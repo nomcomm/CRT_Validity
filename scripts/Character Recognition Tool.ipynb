{
 "cells": [
  {
   "cell_type": "markdown",
   "metadata": {},
   "source": [
    "# Character Recognition Tool\n",
    "### Created by \n",
    "### Joshua Baldwin - Michigan State University\n",
    "### Ralf Schmaelzle - Michigan State University"
   ]
  },
  {
   "cell_type": "markdown",
   "metadata": {},
   "source": [
    "# Instructions"
   ]
  },
  {
   "cell_type": "markdown",
   "metadata": {},
   "source": [
    "## Install Packages"
   ]
  },
  {
   "cell_type": "code",
   "execution_count": null,
   "metadata": {},
   "outputs": [],
   "source": [
    "#!pip install pliers\n",
    "#!pip install python-magic\n",
    "#!pip install face_recognition \n",
    "#!pip3 install --upgrade pandas\n",
    "#!pip install libmagic\n",
    "#!brew upgrade cmake\n",
    "#!homebrew, ffmpeg, dlib\n",
    "#!brew install  dlib\n",
    "#!brew install libmagic"
   ]
  },
  {
   "cell_type": "markdown",
   "metadata": {},
   "source": [
    "## Import Tools"
   ]
  },
  {
   "cell_type": "code",
   "execution_count": null,
   "metadata": {},
   "outputs": [],
   "source": [
    "import os \n",
    "from os.path import join\n",
    "import numpy as np\n",
    "\n",
    "from pliers.tests.utils import get_test_data_path\n",
    "from pliers.extractors import (FaceRecognitionFaceLocationsExtractor, FaceRecognitionFaceEncodingsExtractor, \n",
    "                               FaceRecognitionFaceLandmarksExtractor,SaliencyExtractor, BrightnessExtractor, merge_results)\n",
    "from pliers.filters import FrameSamplingFilter\n",
    "import face_recognition\n",
    "from pliers.graph import Graph\n",
    "import pandas as pd \n",
    "import sys\n"
   ]
  },
  {
   "cell_type": "markdown",
   "metadata": {},
   "source": [
    "## Name your project and direct input files\n",
    "### Please insert your project name\n",
    "### Please direct your video files\n",
    "### Please direct your reference images\n",
    "### Please indicate the number of reference images\n",
    "### Please indicate the names of the characters"
   ]
  },
  {
   "cell_type": "code",
   "execution_count": null,
   "metadata": {},
   "outputs": [],
   "source": [
    "#Name the Project Below\n",
    "project_name = 'Project_Name'\n",
    "\n",
    "#Import Video\n",
    "video_reference = 'Video_File'\n",
    "\n",
    "#Import Reference Images \n",
    "images = os.listdir('Reference_Image_File')\n",
    "images_reference = 'Reference_Image_File'\n",
    "#How Many Known Images?\n",
    "n_images = 7\n",
    "\n",
    "#What are the Names of the Characters (Alphabetical)?\n",
    "character_names = ['Character_1','Character_2','Character_nth']\n",
    "n_characters = len(character_names)"
   ]
  },
  {
   "cell_type": "markdown",
   "metadata": {},
   "source": [
    "## Set your frame rate"
   ]
  },
  {
   "cell_type": "code",
   "execution_count": null,
   "metadata": {},
   "outputs": [],
   "source": [
    "rate = 1\n",
    "sampler = FrameSamplingFilter(every = rate)\n",
    "frames = sampler.transform(video_reference)\n",
    "n_frames = frames.n_frames\n",
    "n_frames_analyze = round(n_frames/24)\n",
    "print('This video has ' + str(n_frames) + ' frames')"
   ]
  },
  {
   "cell_type": "markdown",
   "metadata": {},
   "source": [
    "## Face Recognition Extractor"
   ]
  },
  {
   "cell_type": "code",
   "execution_count": null,
   "metadata": {},
   "outputs": [],
   "source": [
    "character_images = []\n",
    "for currs in character_names:\n",
    "    cname = currs + '.jpg'\n",
    "    character_images.append(cname)\n",
    "    \n",
    "character_images"
   ]
  },
  {
   "cell_type": "code",
   "execution_count": null,
   "metadata": {},
   "outputs": [],
   "source": [
    "known_faces = []\n",
    "\n",
    "for character in character_images:\n",
    "    known_character_image =  face_recognition.load_image_file(images_reference + character)\n",
    "    known_character_encoding = face_recognition.face_encodings(known_character_image)[0]\n",
    "    #print (known_character_encoding)\n",
    "    known_faces.append(known_character_encoding)\n",
    "    \n",
    "\n",
    "len(known_faces)"
   ]
  },
  {
   "cell_type": "code",
   "execution_count": null,
   "metadata": {},
   "outputs": [],
   "source": [
    "res = []\n",
    "for curr_frame_number in np.arange(0, n_frames, 1):\n",
    "    sys.stdout.write(\" %d, \\r\" % (curr_frame_number) )\n",
    "    sys.stdout.flush()\n",
    "    curr_frame = frames.get_frame(curr_frame_number).video.get_frame(curr_frame_number).video.get_frame(curr_frame_number).data\n",
    "    face_locations = face_recognition.face_locations(curr_frame)\n",
    "    face_encodings = face_recognition.face_encodings(curr_frame, face_locations)\n",
    "\n",
    "    if len(face_encodings)>0 :\n",
    "        results = face_recognition.compare_faces(known_faces, face_encodings[0])\n",
    "        res.append(results)\n",
    "    else:\n",
    "        res.append([False] * n_images)\n",
    "        \n",
    "res2 = np.asarray(res)\n",
    "np.asarray(res2[0])\n",
    "\n",
    "new_result = np.zeros((n_frames,n_characters))\n",
    "\n",
    "for this_line in range(n_frames):\n",
    "    new_result[this_line,:] = np.asarray(res2[this_line])\n",
    "\n",
    "df2 = pd.DataFrame( data    = new_result,\n",
    "                    columns = character_names );\n",
    "df2.to_csv('../data/output_data/' + project_name + '_face_recognition.csv')\n",
    "df2"
   ]
  },
  {
   "cell_type": "code",
   "execution_count": null,
   "metadata": {},
   "outputs": [],
   "source": []
  }
 ],
 "metadata": {
  "kernelspec": {
   "display_name": "Python 3",
   "language": "python",
   "name": "python3"
  },
  "language_info": {
   "codemirror_mode": {
    "name": "ipython",
    "version": 3
   },
   "file_extension": ".py",
   "mimetype": "text/x-python",
   "name": "python",
   "nbconvert_exporter": "python",
   "pygments_lexer": "ipython3",
   "version": "3.6.8"
  }
 },
 "nbformat": 4,
 "nbformat_minor": 2
}
